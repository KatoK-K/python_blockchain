{
 "cells": [
  {
   "cell_type": "code",
   "execution_count": 1,
   "id": "81f8be25",
   "metadata": {},
   "outputs": [],
   "source": [
    "import json\n",
    "import requests"
   ]
  },
  {
   "cell_type": "code",
   "execution_count": 2,
   "id": "9e16efb8",
   "metadata": {},
   "outputs": [],
   "source": [
    "address = '3FkenCiXpSLqD8L79intRNXUgjRoH9sjXa'\n",
    "\n",
    "res = requests.get(\"https://blockchain.info/unspent?active=\"+address)\n",
    "utxo_list = json.loads(res.text)[\"unspent_outputs\"]"
   ]
  },
  {
   "cell_type": "code",
   "execution_count": 4,
   "id": "7b44a006",
   "metadata": {},
   "outputs": [
    {
     "name": "stdout",
     "output_type": "stream",
     "text": [
      "3個のUTXOが見つかりました！\n",
      "1b8eefb2ddc1b7e509086e332dca1d7785df5ae830d5d1db1ced321bf54870d1:6499satoshis\n",
      "eb627dba2d83f1b3aa701bb4995f703d199aff548b6a8eafbcb85e04551ca2f1:68753satoshis\n",
      "7e0c9475eb1d78e01135e27e83b0205021b28180522baa667c71d3b6fbda8dd5:196620satoshis\n"
     ]
    }
   ],
   "source": [
    "print(str(len(utxo_list))+\"個のUTXOが見つかりました！\")\n",
    "for utxo in utxo_list:\n",
    "    print(utxo['tx_hash']+':'+str(utxo['value'])+'satoshis')"
   ]
  },
  {
   "cell_type": "code",
   "execution_count": null,
   "id": "8c6df0eb",
   "metadata": {},
   "outputs": [],
   "source": []
  }
 ],
 "metadata": {
  "kernelspec": {
   "display_name": "Python 3",
   "language": "python",
   "name": "python3"
  },
  "language_info": {
   "codemirror_mode": {
    "name": "ipython",
    "version": 3
   },
   "file_extension": ".py",
   "mimetype": "text/x-python",
   "name": "python",
   "nbconvert_exporter": "python",
   "pygments_lexer": "ipython3",
   "version": "3.8.10"
  }
 },
 "nbformat": 4,
 "nbformat_minor": 5
}
