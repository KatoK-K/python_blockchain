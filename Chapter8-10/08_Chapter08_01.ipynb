{
 "cells": [
  {
   "cell_type": "code",
   "execution_count": 2,
   "id": "739b896a",
   "metadata": {},
   "outputs": [],
   "source": [
    "import os\n",
    "import binascii"
   ]
  },
  {
   "cell_type": "markdown",
   "id": "13d66d83",
   "metadata": {},
   "source": [
    "32バイトの乱数"
   ]
  },
  {
   "cell_type": "code",
   "execution_count": 3,
   "id": "ddd4c80c",
   "metadata": {},
   "outputs": [
    {
     "data": {
      "text/plain": [
       "b'\\xce\\x12\\xba\\x87=\\xf8\\x94R\\x8cH\\x15@\\xfa\\xb4y\\x08\\x8e\\xef^b\\x9f\\xc5\\xdfX\\xc8I\\x10]/9\\xb5\\xe6'"
      ]
     },
     "execution_count": 3,
     "metadata": {},
     "output_type": "execute_result"
    }
   ],
   "source": [
    "private_key = os.urandom(32)\n",
    "private_key"
   ]
  },
  {
   "cell_type": "markdown",
   "id": "4d3bfcfe",
   "metadata": {},
   "source": [
    "16バイトの乱数"
   ]
  },
  {
   "cell_type": "code",
   "execution_count": 4,
   "id": "c5f0778b",
   "metadata": {},
   "outputs": [
    {
     "name": "stdout",
     "output_type": "stream",
     "text": [
      "b'ce12ba873df894528c481540fab479088eef5e629fc5df58c849105d2f39b5e6'\n"
     ]
    }
   ],
   "source": [
    "print(binascii.hexlify(private_key))"
   ]
  },
  {
   "cell_type": "code",
   "execution_count": 5,
   "id": "c8997ff5",
   "metadata": {},
   "outputs": [],
   "source": [
    "import ecdsa"
   ]
  },
  {
   "cell_type": "code",
   "execution_count": 7,
   "id": "f6572336",
   "metadata": {},
   "outputs": [],
   "source": [
    "public_key = ecdsa.SigningKey.from_string(private_key, curve=ecdsa.SECP256k1).verifying_key.to_string()"
   ]
  },
  {
   "cell_type": "code",
   "execution_count": 8,
   "id": "f3690f07",
   "metadata": {},
   "outputs": [
    {
     "data": {
      "text/plain": [
       "b'\"\\x03\\xab\\xeeh\\x92B-{q\\x8e\\xc83\\x00\\xce\\x1f\\x97Y\\x89a,\\xee\\xb8\\x0b\\xfe:-\\x8b\\xfa\\x0e\\x0e\\xba\\x10\\xdb\\x11\\xc8f\\x15\\x1c_XE\\xcd\\xa7\\xfdLTXF\\xb90\\xbf7U\\x8b\\xd8\\xb9\\xeb\\xac\\xd0\\xc6\\xc99\\xad'"
      ]
     },
     "execution_count": 8,
     "metadata": {},
     "output_type": "execute_result"
    }
   ],
   "source": [
    "public_key"
   ]
  },
  {
   "cell_type": "code",
   "execution_count": 9,
   "id": "cdc9a405",
   "metadata": {},
   "outputs": [
    {
     "name": "stdout",
     "output_type": "stream",
     "text": [
      "b'2203abee6892422d7b718ec83300ce1f975989612ceeb80bfe3a2d8bfa0e0eba10db11c866151c5f5845cda7fd4c545846b930bf37558bd8b9ebacd0c6c939ad'\n",
      "b'032203abee6892422d7b718ec83300ce1f975989612ceeb80bfe3a2d8bfa0e0eba'\n"
     ]
    }
   ],
   "source": [
    "public_key_y = int.from_bytes(public_key[32:], \"big\")\n",
    "\n",
    "if public_key_y % 2 == 0:\n",
    "    public_key_compressed = b\"\\x02\" + public_key[:32]\n",
    "else:\n",
    "    public_key_compressed = b\"\\x03\" + public_key[:32]\n",
    "\n",
    "print(binascii.hexlify(public_key))\n",
    "print(binascii.hexlify(public_key_compressed))"
   ]
  },
  {
   "cell_type": "code",
   "execution_count": null,
   "id": "65440c31",
   "metadata": {},
   "outputs": [],
   "source": []
  }
 ],
 "metadata": {
  "kernelspec": {
   "display_name": "Python 3",
   "language": "python",
   "name": "python3"
  },
  "language_info": {
   "codemirror_mode": {
    "name": "ipython",
    "version": 3
   },
   "file_extension": ".py",
   "mimetype": "text/x-python",
   "name": "python",
   "nbconvert_exporter": "python",
   "pygments_lexer": "ipython3",
   "version": "3.8.10"
  }
 },
 "nbformat": 4,
 "nbformat_minor": 5
}
