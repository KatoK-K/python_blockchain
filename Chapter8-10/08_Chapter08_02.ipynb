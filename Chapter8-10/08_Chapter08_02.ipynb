{
 "cells": [
  {
   "cell_type": "code",
   "execution_count": 1,
   "id": "954889ea",
   "metadata": {},
   "outputs": [],
   "source": [
    "import os\n",
    "import ecdsa\n",
    "import hashlib\n",
    "import base58"
   ]
  },
  {
   "cell_type": "code",
   "execution_count": 2,
   "id": "4facd5c9",
   "metadata": {},
   "outputs": [],
   "source": [
    "private_key = os.urandom(32)\n",
    "public_key = ecdsa.SigningKey.from_string(private_key, curve=ecdsa.SECP256k1).verifying_key.to_string()"
   ]
  },
  {
   "cell_type": "code",
   "execution_count": 3,
   "id": "2170065f",
   "metadata": {},
   "outputs": [],
   "source": [
    "prefix_and_pubkey = b\"\\x04\" + public_key"
   ]
  },
  {
   "cell_type": "code",
   "execution_count": 4,
   "id": "214bcd13",
   "metadata": {},
   "outputs": [],
   "source": [
    "intermediate = hashlib.sha256(prefix_and_pubkey).digest()\n",
    "ripemd160 = hashlib.new('ripemd160')\n",
    "ripemd160.update(intermediate)\n",
    "hash160 = ripemd160.digest()"
   ]
  },
  {
   "cell_type": "code",
   "execution_count": 5,
   "id": "9a50031a",
   "metadata": {},
   "outputs": [
    {
     "name": "stdout",
     "output_type": "stream",
     "text": [
      "1H2NKfCEQs2dLXn2B3GfNp3RtGZegdxywN\n"
     ]
    }
   ],
   "source": [
    "prefix_and_hash160 = b\"\\x00\" + hash160\n",
    "\n",
    "double_hash = hashlib.sha256(hashlib.sha256(prefix_and_hash160).digest()).digest()\n",
    "checksum = double_hash[:4]\n",
    "\n",
    "pre_address = prefix_and_hash160 + checksum\n",
    "address = base58.b58encode(pre_address)\n",
    "print(address.decode())"
   ]
  },
  {
   "cell_type": "code",
   "execution_count": null,
   "id": "4796e057",
   "metadata": {},
   "outputs": [],
   "source": []
  }
 ],
 "metadata": {
  "kernelspec": {
   "display_name": "Python 3",
   "language": "python",
   "name": "python3"
  },
  "language_info": {
   "codemirror_mode": {
    "name": "ipython",
    "version": 3
   },
   "file_extension": ".py",
   "mimetype": "text/x-python",
   "name": "python",
   "nbconvert_exporter": "python",
   "pygments_lexer": "ipython3",
   "version": "3.8.10"
  }
 },
 "nbformat": 4,
 "nbformat_minor": 5
}
