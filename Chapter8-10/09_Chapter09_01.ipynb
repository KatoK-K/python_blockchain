{
 "cells": [
  {
   "cell_type": "code",
   "execution_count": 1,
   "id": "24eadc07",
   "metadata": {},
   "outputs": [],
   "source": [
    "import os\n",
    "import binascii\n",
    "import ecdsa\n",
    "import hmac\n",
    "import hashlib"
   ]
  },
  {
   "cell_type": "code",
   "execution_count": 2,
   "id": "ced0d6ae",
   "metadata": {},
   "outputs": [],
   "source": [
    "seed = os.urandom(32)\n",
    "root_key = b\"Bitcoin seed\""
   ]
  },
  {
   "cell_type": "code",
   "execution_count": 7,
   "id": "72a0512d",
   "metadata": {},
   "outputs": [],
   "source": [
    "def hmac_sha512(data, keymessage):\n",
    "    hash = hmac.new(data, keymessage, hashlib.sha512).digest()\n",
    "    return hash"
   ]
  },
  {
   "cell_type": "code",
   "execution_count": 12,
   "id": "00b24e74",
   "metadata": {},
   "outputs": [],
   "source": [
    "def create_pubkey(private_key):\n",
    "    publickey = ecdsa.SigningKey.from_string(private_key, curve=ecdsa.SECP256k1).verifying_key.to_string()\n",
    "    return publickey"
   ]
  },
  {
   "cell_type": "code",
   "execution_count": 13,
   "id": "f9a89556",
   "metadata": {},
   "outputs": [],
   "source": [
    "master = hmac_sha512(seed, root_key)\n",
    "master_secretkey = master[:32]\n",
    "master_chaincode = master[32:]\n",
    "master_publickey = create_pubkey(master_secretkey)"
   ]
  },
  {
   "cell_type": "code",
   "execution_count": 14,
   "id": "9cc93408",
   "metadata": {},
   "outputs": [],
   "source": [
    "master_publickey_integer = int.from_bytes(master_publickey[32:], byteorder='big')"
   ]
  },
  {
   "cell_type": "code",
   "execution_count": 15,
   "id": "3767685e",
   "metadata": {},
   "outputs": [],
   "source": [
    "if master_publickey_integer % 2 == 0:\n",
    "    master_publickey_x = b\"\\x02\" + master_publickey[:32]\n",
    "else:\n",
    "    master_publickey_x = b\"\\x03\" + master_publickey[:32]"
   ]
  },
  {
   "cell_type": "code",
   "execution_count": 16,
   "id": "3bd5d34c",
   "metadata": {},
   "outputs": [
    {
     "name": "stdout",
     "output_type": "stream",
     "text": [
      "マスター秘密鍵\n",
      "b'ee1192474adfa8c415cd7b29d3f47fe15478289c8b5105c444cd0f7f4214fa9b'\n",
      "\n",
      "\n",
      "マスターチェーンコード\n",
      "b'288a7f66ed45910e1b4c9a71a68ac67f1d17e075a76f8dfffda7264a3b906393'\n",
      "\n",
      "\n",
      "マスター公開鍵\n",
      "b'028f275b58e6cdd70d1cb30f0434abd98e1da4c79ae4c7f95c60b574a237fb2440'\n"
     ]
    }
   ],
   "source": [
    "# マスター秘密鍵\n",
    "print('マスター秘密鍵')\n",
    "print(binascii.hexlify(master_secretkey))\n",
    "print('\\n')\n",
    "# マスターチェーンコード\n",
    "print('マスターチェーンコード')\n",
    "print(binascii.hexlify(master_chaincode))\n",
    "print('\\n')\n",
    "# マスター圧縮公開鍵\n",
    "print('マスター公開鍵')\n",
    "print(binascii.hexlify(master_publickey_x))"
   ]
  },
  {
   "cell_type": "code",
   "execution_count": 17,
   "id": "0972df34",
   "metadata": {},
   "outputs": [],
   "source": [
    "index = 0\n",
    "index_bytes = index.to_bytes(8, \"big\")\n",
    "data = master_publickey_x + index_bytes\n",
    "result_hmac512 = hmac_sha512(data, master_chaincode)"
   ]
  },
  {
   "cell_type": "code",
   "execution_count": 18,
   "id": "a3b320a6",
   "metadata": {},
   "outputs": [],
   "source": [
    "sum_integer = int.from_bytes(master_secretkey, \"big\") + int.from_bytes(result_hmac512[:32], \"big\")"
   ]
  },
  {
   "cell_type": "code",
   "execution_count": 19,
   "id": "4551b579",
   "metadata": {},
   "outputs": [],
   "source": [
    "p = 2**256 - 2**32 - 2**9 - 2**8 - 2**7 - 2**6 - 2**4 - 1\n",
    "child_secretkey = (sum_integer % p).to_bytes(32, \"big\")"
   ]
  },
  {
   "cell_type": "code",
   "execution_count": 21,
   "id": "4ddc1036",
   "metadata": {},
   "outputs": [
    {
     "name": "stdout",
     "output_type": "stream",
     "text": [
      "子秘密鍵\n",
      "b'a72ceb16d21f4f5c75240805d0339cf52e1164508a15b77a65560243c72797b7'\n"
     ]
    }
   ],
   "source": [
    "# 子秘密鍵\n",
    "print(\"子秘密鍵\")\n",
    "print(binascii.hexlify(child_secretkey))"
   ]
  },
  {
   "cell_type": "code",
   "execution_count": null,
   "id": "842e0bcf",
   "metadata": {},
   "outputs": [],
   "source": []
  }
 ],
 "metadata": {
  "kernelspec": {
   "display_name": "Python 3",
   "language": "python",
   "name": "python3"
  },
  "language_info": {
   "codemirror_mode": {
    "name": "ipython",
    "version": 3
   },
   "file_extension": ".py",
   "mimetype": "text/x-python",
   "name": "python",
   "nbconvert_exporter": "python",
   "pygments_lexer": "ipython3",
   "version": "3.8.10"
  }
 },
 "nbformat": 4,
 "nbformat_minor": 5
}
