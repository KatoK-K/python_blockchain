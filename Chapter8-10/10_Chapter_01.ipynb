{
 "cells": [
  {
   "cell_type": "code",
   "execution_count": 1,
   "id": "5a9cca1d",
   "metadata": {},
   "outputs": [],
   "source": [
    "import requests"
   ]
  },
  {
   "cell_type": "code",
   "execution_count": 3,
   "id": "b060af36",
   "metadata": {},
   "outputs": [
    {
     "name": "stdout",
     "output_type": "stream",
     "text": [
      "{\"hash\":\"0e942bb178dbf7ae40d36d238d559427429641689a379fc43929f15275a75fa6\",\"ver\":1,\"vin_sz\":2,\"vout_sz\":1,\"size\":405,\"weight\":1620,\"fee\":0,\"relayed_by\":\"0.0.0.0\",\"lock_time\":0,\"tx_index\":5853752370814501,\"double_spend\":false,\"time\":1298920129,\"block_index\":111111,\"block_height\":111111,\"inputs\":[{\"sequence\":4294967295,\"witness\":\"\",\"script\":\"493046022100b3c7f1c56384c6145673b94fa226af8d02a263a1ed9f3505fdf0e94cc681193e022100d677eb3cbb9b82da961626ccfdc31a6041195123ae236b5ed1a34250c4163e73014104545e7c6d2acc161567860039bc3068d4af5432b1afe34d2909bf8996b95c10a6445692bc3f458a0503c45084f99329d5e90d84f21a52a5d11add62eb26340db2\",\"index\":0,\"prev_out\":{\"spent\":true,\"script\":\"76a91471c4f6b0f56fef3cbdbae6f297631a27ab159f9888ac\",\"spending_outpoints\":[{\"tx_index\":5853752370814501,\"n\":0}],\"tx_index\":2457001643202323,\"value\":500000000,\"addr\":\"1BNZJx7pM4GTqe8MgEZoji2fUS3fKnJH2i\",\"n\":1,\"type\":0}},{\"sequence\":4294967295,\"witness\":\"\",\"script\":\"483045022100d4ea6ce46296548d38f02da337daebef00f443134f3b68f4ad8946a961728b0402207573dc96e324037d1934fa5105a517608364a2b273e694dce53714745fa135f4014104e89667c1c2cf4eb91324debcc7742b8eb22406c59d6033794124efb7cce37b78ddd5e3c3474aeb9dbf7689c9d36d776b7d21debe4d75142cb43a2529fb3a6da4\",\"index\":1,\"prev_out\":{\"spent\":true,\"script\":\"76a9144be0a14399e3aad60a761f2e3f658902548423e788ac\",\"spending_outpoints\":[{\"tx_index\":5853752370814501,\"n\":1}],\"tx_index\":2598986085139482,\"value\":3500000000,\"addr\":\"17vCmx3McuR3Z7ch2Nz83EoJN9J9p1dvdy\",\"n\":0,\"type\":0}}],\"out\":[{\"type\":0,\"spent\":false,\"value\":4000000000,\"spending_outpoints\":[],\"n\":0,\"tx_index\":5853752370814501,\"script\":\"76a914c1ac9042b50a9d2e7a6a1b42bad66e61a9ec3f6b88ac\",\"addr\":\"1Jf48wufcDpPQ2EEgX1jUULuTHVzDhqBSF\"}]}\n"
     ]
    }
   ],
   "source": [
    "APIURL = \"https://blockchain.info/rawtx/\"\n",
    "TXID = \"0e942bb178dbf7ae40d36d238d559427429641689a379fc43929f15275a75fa6\"\n",
    "\n",
    "# r = requests.get(APIURL + TXID + \"?format=hex\")\n",
    "r = requests.get(APIURL + TXID)\n",
    "print(r.text)"
   ]
  },
  {
   "cell_type": "code",
   "execution_count": null,
   "id": "823f69c8",
   "metadata": {},
   "outputs": [],
   "source": []
  }
 ],
 "metadata": {
  "kernelspec": {
   "display_name": "Python 3",
   "language": "python",
   "name": "python3"
  },
  "language_info": {
   "codemirror_mode": {
    "name": "ipython",
    "version": 3
   },
   "file_extension": ".py",
   "mimetype": "text/x-python",
   "name": "python",
   "nbconvert_exporter": "python",
   "pygments_lexer": "ipython3",
   "version": "3.8.10"
  }
 },
 "nbformat": 4,
 "nbformat_minor": 5
}
